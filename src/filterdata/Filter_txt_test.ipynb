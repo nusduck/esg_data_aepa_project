{
 "cells": [
  {
   "cell_type": "code",
   "execution_count": 5,
   "metadata": {},
   "outputs": [],
   "source": [
    "from transformers import BertTokenizer, BertForSequenceClassification, pipeline\n",
    "import torch"
   ]
  },
  {
   "cell_type": "code",
   "execution_count": 6,
   "metadata": {},
   "outputs": [
    {
     "name": "stderr",
     "output_type": "stream",
     "text": [
      "d:\\anaconda3\\envs\\esg\\Lib\\site-packages\\transformers\\tokenization_utils_base.py:1601: FutureWarning: `clean_up_tokenization_spaces` was not set. It will be set to `True` by default. This behavior will be depracted in transformers v4.45, and will be then set to `False` by default. For more details check this issue: https://github.com/huggingface/transformers/issues/31884\n",
      "  warnings.warn(\n"
     ]
    }
   ],
   "source": [
    "finbert = BertForSequenceClassification.from_pretrained('yiyanghkust/finbert-esg',num_labels=4)\n",
    "tokenizer = BertTokenizer.from_pretrained('yiyanghkust/finbert-esg')\n",
    "\n",
    "# 检查是否有可用的 GPU\n",
    "device = 0 if torch.cuda.is_available() else -1\n",
    "\n",
    "nlp = pipeline(\"text-classification\", model=finbert, tokenizer=tokenizer,device=device)"
   ]
  },
  {
   "cell_type": "code",
   "execution_count": 8,
   "metadata": {},
   "outputs": [
    {
     "name": "stdout",
     "output_type": "stream",
     "text": [
      "[{'label': 'Environmental', 'score': 0.992522656917572}]\n"
     ]
    }
   ],
   "source": [
    "#测试pipline\n",
    "result = nlp('scope 1 - direct greenhouse gas emissions during fy2022, the three vessels owned by the group were virtually leased out throughout the whole of fy2022, and as the group did not own any vehicles, the group’s operations did not produce any direct greenhouse gas emissions.')\n",
    "#print(result)"
   ]
  },
  {
   "cell_type": "code",
   "execution_count": 1,
   "metadata": {},
   "outputs": [
    {
     "name": "stderr",
     "output_type": "stream",
     "text": [
      "<>:2: SyntaxWarning: invalid escape sequence '\\d'\n",
      "<>:2: SyntaxWarning: invalid escape sequence '\\d'\n",
      "C:\\Users\\lijin\\AppData\\Local\\Temp\\ipykernel_17824\\2894444720.py:2: SyntaxWarning: invalid escape sequence '\\d'\n",
      "  with open(\"..\\data\\Courage Investment Group Limited_report.txt\", \"r\", encoding=\"utf-8\") as file:\n"
     ]
    }
   ],
   "source": [
    "# 打开并读取整个文件\n",
    "with open(\"..\\data\\Courage Investment Group Limited_report.txt\", \"r\", encoding=\"utf-8\") as file:\n",
    "    text = file.readlines()\n",
    "#print(text)"
   ]
  },
  {
   "cell_type": "code",
   "execution_count": 55,
   "metadata": {},
   "outputs": [],
   "source": [
    "results = []\n",
    "\n",
    "#设置最大文本长度\n",
    "max_text_length = 510\n",
    "\n",
    "for t in text:\n",
    "    t = t.strip()\n",
    "    if len(t) > 512:\n",
    "        result = nlp(t[:max_text_length])\n",
    "    else:\n",
    "        result = nlp(t)\n",
    "    results.append(result)"
   ]
  },
  {
   "cell_type": "code",
   "execution_count": 21,
   "metadata": {},
   "outputs": [
    {
     "data": {
      "text/plain": [
       "[{'label': 'Social', 'score': 0.48891350626945496}]"
      ]
     },
     "execution_count": 21,
     "metadata": {},
     "output_type": "execute_result"
    }
   ],
   "source": [
    "#查看result\n",
    "#results[2]"
   ]
  },
  {
   "cell_type": "code",
   "execution_count": 60,
   "metadata": {},
   "outputs": [
    {
     "name": "stdout",
     "output_type": "stream",
     "text": [
      "[213, 282, 412]\n"
     ]
    }
   ],
   "source": [
    "k = [0,0,0]\n",
    "for i in range(len(results)):\n",
    "    if results[i][0].get('label') != 'None':\n",
    "        #得分0.9以上个数\n",
    "        if results[i][0].get('score') > 0.9:\n",
    "            k[0] += 1\n",
    "        #得分0.8以上个数\n",
    "        if results[i][0].get('score') > 0.8:\n",
    "            k[1] += 1\n",
    "        #所有非None类句子个数\n",
    "        k[2] += 1\n",
    "print(k)"
   ]
  },
  {
   "cell_type": "code",
   "execution_count": 53,
   "metadata": {},
   "outputs": [
    {
     "data": {
      "image/png": "[encoded data removed]",
      "text/plain": [
       "<Figure size 640x480 with 1 Axes>"
      ]
     },
     "metadata": {},
     "output_type": "display_data"
    }
   ],
   "source": [
    "import seaborn as sns\n",
    "\n",
    "#展示分数分布\n",
    "s = [i[0].get('score') for i in results]\n",
    "\n",
    "sns.kdeplot(s)\n",
    "plt.xlabel('numerical value')\n",
    "plt.title('Data distribution density map')\n",
    "plt.show()"
   ]
  },
  {
   "cell_type": "code",
   "execution_count": 32,
   "metadata": {},
   "outputs": [
    {
     "data": {
      "text/plain": [
       "'this was mainly due to an increase in business activities.\\n'"
      ]
     },
     "execution_count": 32,
     "metadata": {},
     "output_type": "execute_result"
    }
   ],
   "source": [
    "#查看对应文字\n",
    "#text[487]"
   ]
  },
  {
   "cell_type": "code",
   "execution_count": 52,
   "metadata": {},
   "outputs": [],
   "source": [
    "r = []\n",
    "for i in range(len(results)):\n",
    "    if results[i][0].get('label') != 'None' and results[i][0].get('score') > 0.9:\n",
    "        r.append(text[i])"
   ]
  },
  {
   "cell_type": "code",
   "execution_count": 59,
   "metadata": {},
   "outputs": [
    {
     "name": "stdout",
     "output_type": "stream",
     "text": [
      "文本已经成功写入\n"
     ]
    }
   ],
   "source": [
    "# 打开文件进行写入\n",
    "with open('../output/Courage Investment Group Limited_report_class.txt', 'w', encoding='utf-8') as file:\n",
    "    for sublist in r:\n",
    "        # 假设每个子列表里只有一段文本，取第一个元素\n",
    "        file.write(sublist + '\\n')  # 添加换行符，方便段落间隔\n",
    "print(f'文本已经成功写入')"
   ]
  },
  {
   "cell_type": "code",
   "execution_count": null,
   "metadata": {},
   "outputs": [],
   "source": [
    "# Load model directly\n",
    "# 本地内存不够不要尝试~\n",
    "\n",
    "# from transformers import AutoTokenizer, AutoModelForSequenceClassification\n",
    "# import numpy as np\n",
    "# import torch\n",
    "\n",
    "# tokenizer = AutoTokenizer.from_pretrained(\"yiyanghkust/finbert-esg\")\n",
    "# model = AutoModelForSequenceClassification.from_pretrained(\"yiyanghkust/finbert-esg\")\n",
    "\n",
    "# device = torch.device(\"cuda\" if torch.cuda.is_available() else \"cpu\")\n",
    "# model.to(device)\n",
    "\n",
    "# max_length = 510\n",
    "# inputs = tokenizer(text, return_tensors=\"pt\", max_length=max_length, truncation= True, padding=True)\n",
    "# inputs = {key: value.to(device) for key, value in inputs.items()}\n",
    "\n",
    "# outputs = model(**inputs)\n",
    "# logits = outputs.logits\n",
    "# predictions = torch.argmax(logits, dim=-1)\n",
    "# print(predictions)\n"
   ]
  },
  {
   "cell_type": "code",
   "execution_count": null,
   "metadata": {},
   "outputs": [],
   "source": [
    "def filter_txt(input_file_path, max = 510, plot = False):\n",
    "    try:\n",
    "        # 获取输入文件的目录、文件名和扩展名\n",
    "        file_dir, file_name = os.path.split(input_file_path)\n",
    "        file_base, file_ext = os.path.splitext(file_name)\n",
    "        \n",
    "        # 创建输出文件的路径，文件名加 `_filtered`\n",
    "        output_file_path = os.path.join(file_dir, f\"{file_base}_filtered{file_ext}\")\n",
    "        \n",
    "        # 打开并读取整个文件\n",
    "        with open(input_file_path, \"r\", encoding=\"utf-8\") as file:\n",
    "            text = file.readlines()\n",
    "        \n",
    "        results = []\n",
    "\n",
    "        #设置最大文本长度\n",
    "        max_text_length = max\n",
    "\n",
    "        for t in text:\n",
    "            t = t.strip()\n",
    "            if len(t) > 512:\n",
    "                result = nlp(t[:max_text_length])\n",
    "            else:\n",
    "                result = nlp(t)\n",
    "            results.append(result)\n",
    "        \n",
    "        if plot == True:\n",
    "            #展示分数分布\n",
    "            s = [i[0].get('score') for i in results]\n",
    "\n",
    "            sns.kdeplot(s)\n",
    "            plt.xlabel('numerical value')\n",
    "            plt.title('Data distribution density map')\n",
    "            plt.show()\n",
    "        \n",
    "        r = []\n",
    "        for i in range(len(results)):\n",
    "            if results[i][0].get('label') != 'None' and results[i][0].get('score') > 0.9:\n",
    "                r.append(text[i])\n",
    "                \n",
    "        # 打开文件进行写入\n",
    "        with open(output_file_path, 'w', encoding='utf-8') as file:\n",
    "            for sublist in r:\n",
    "                # 假设每个子列表里只有一段文本，取第一个元素\n",
    "                # file.write(sublist + '\\n')  # 添加换行符，方便段落间隔\n",
    "                file.write(sublist) #不要换行符，方便操作\n",
    "        print(f'文本已经成功写入 {output_file_path}')\n",
    "    except Exception as e:\n",
    "        print(f'发生错误: {e}')"
   ]
  }
 ],
 "metadata": {
  "kernelspec": {
   "display_name": "esg",
   "language": "python",
   "name": "python3"
  },
  "language_info": {
   "codemirror_mode": {
    "name": "ipython",
    "version": 3
   },
   "file_extension": ".py",
   "mimetype": "text/x-python",
   "name": "python",
   "nbconvert_exporter": "python",
   "pygments_lexer": "ipython3",
   "version": "3.12.7"
  }
 },
 "nbformat": 4,
 "nbformat_minor": 2
}
